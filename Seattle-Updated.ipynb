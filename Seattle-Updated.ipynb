{
 "cells": [
  {
   "cell_type": "markdown",
   "metadata": {},
   "source": [
    "## OpenStreetMap Data Wrangling Project"
   ]
  },
  {
   "cell_type": "markdown",
   "metadata": {},
   "source": [
    "#### In this notebook I will summarize my steps and findings towards the Data Wrangling Project course, using  data obtained from OpenStreet Map."
   ]
  },
  {
   "cell_type": "markdown",
   "metadata": {},
   "source": [
    "### Introduction"
   ]
  },
  {
   "cell_type": "markdown",
   "metadata": {},
   "source": [
    "For this project I have chosen to analyze the OpenStreetMap data for Seattle Washington. I chose this area as I currently am living and working in Seattle. "
   ]
  },
  {
   "cell_type": "markdown",
   "metadata": {},
   "source": [
    "OpenStreetMap Link - https://www.openstreetmap.org/export#map=14/47.6134/-122.3341"
   ]
  },
  {
   "cell_type": "markdown",
   "metadata": {},
   "source": [
    "### Objectives"
   ]
  },
  {
   "cell_type": "markdown",
   "metadata": {},
   "source": [
    "- Assess the quality of the data for validity, accuracy, completeness, consistency and uniformity.\n",
    "- Parse and gather data\n",
    "- Process data \n",
    "- Learn how to store, query, and aggregate data using SQL."
   ]
  },
  {
   "cell_type": "markdown",
   "metadata": {},
   "source": [
    "### Data Auditing and cleaning"
   ]
  },
  {
   "cell_type": "markdown",
   "metadata": {},
   "source": [
    "- I used identifyTags.py to identify the tags used in the datafile.Node and way are the tags I will be looking at. \n",
    "- TagAudit.py was used to look for tags with only lowercase letters, lowercase letters separated by a colon as well as any problem characters.\n",
    "- AuditingK.py was used to find the different attributes represented by the 'k' value and measures their occurance. \n",
    "- I used StreetTypes.py to audit the street names in the seattle.osm file. \n",
    "- UpdateStreetTypes.py was used to correct inconsistancies with street names in the seattle.osm file. \n"
   ]
  },
  {
   "cell_type": "markdown",
   "metadata": {},
   "source": [
    "### Tag Identification"
   ]
  },
  {
   "cell_type": "markdown",
   "metadata": {},
   "source": [
    "This function shows what kind of elements are present in OSM file, and which are important. Reference IdentifyTages.py."
   ]
  },
  {
   "cell_type": "code",
   "execution_count": 2,
   "metadata": {},
   "outputs": [
    {
     "name": "stdout",
     "output_type": "stream",
     "text": [
      "{'bounds': 1,\n",
      " 'member': 70807,\n",
      " 'meta': 1,\n",
      " 'nd': 251384,\n",
      " 'node': 217673,\n",
      " 'note': 1,\n",
      " 'osm': 1,\n",
      " 'relation': 1039,\n",
      " 'tag': 266030,\n",
      " 'way': 31137}\n"
     ]
    }
   ],
   "source": [
    "\n",
    "\n",
    "import xml.etree.cElementTree as ET\n",
    "import pprint\n",
    "\n",
    "OSMFILE = 'Seattle.osm'\n",
    "SAMPLE_FILE = 'sample.osm'\n",
    "\n",
    "def count_tags(filename):\n",
    "    tags = {} #create empty dic to hold values of tags and their counts\n",
    "    for event, elem in ET.iterparse(filename):\n",
    "        if elem.tag not in tags.keys():\n",
    "            tags[elem.tag] = 1\n",
    "        else:\n",
    "            tags[elem.tag] += 1\n",
    "    return tags\n",
    "\n",
    "tags = count_tags(OSMFILE)\n",
    "pprint.pprint(tags)\n",
    "\n"
   ]
  },
  {
   "cell_type": "markdown",
   "metadata": {},
   "source": [
    "### Size of original file"
   ]
  },
  {
   "cell_type": "code",
   "execution_count": 3,
   "metadata": {},
   "outputs": [
    {
     "name": "stdout",
     "output_type": "stream",
     "text": [
      "osm file size: 60.230715 Mb\n"
     ]
    }
   ],
   "source": [
    "# Ref https://stackabuse.com/python-list-files-in-a-directory/\n",
    "\n",
    "import os\n",
    "bytes = os.path.getsize('Seattle.osm')\n",
    "mb = float(bytes / 1000000)\n",
    "print (\"osm file size:\", mb, \"Mb\")"
   ]
  },
  {
   "cell_type": "markdown",
   "metadata": {},
   "source": [
    "### Sample file creation "
   ]
  },
  {
   "cell_type": "markdown",
   "metadata": {},
   "source": [
    "The following function creats a sample file. Reference sample.py. "
   ]
  },
  {
   "cell_type": "code",
   "execution_count": 4,
   "metadata": {},
   "outputs": [],
   "source": [
    "k = 25 # Parameter: take every k-th top level element. The value was tuned to get the appropriate sample file size.\n",
    "\n",
    "def get_element(filename, tags=('node', 'way', 'relation')):\n",
    "    context = iter(ET.iterparse(filename, events=('start', 'end')))\n",
    "    _, root = next(context)\n",
    "    for event, elem in context:\n",
    "        if event == 'end' and elem.tag in tags:\n",
    "            yield elem\n",
    "            root.clear()\n",
    "\n",
    "with open(SAMPLE_FILE, 'w',encoding='utf-8') as output:\n",
    "    output.write('<?xml version=\"1.0\" encoding=\"UTF-8\"?>\\n')\n",
    "    output.write('<osm>\\n  ')\n",
    "    # Write every kth top level element\n",
    "    for i, element in enumerate(get_element(OSMFILE)):\n",
    "        if i % k == 0:\n",
    "            output.write(ET.tostring(element, encoding='utf-8').decode())\n",
    "    output.write('</osm>')"
   ]
  },
  {
   "cell_type": "code",
   "execution_count": 5,
   "metadata": {},
   "outputs": [
    {
     "name": "stdout",
     "output_type": "stream",
     "text": [
      "osm file size: 2.447847 Mb\n"
     ]
    }
   ],
   "source": [
    "# Ref https://stackabuse.com/python-list-files-in-a-directory/\n",
    "\n",
    "import os\n",
    "bytes = os.path.getsize('sample.osm')\n",
    "mb = float(bytes / 1000000)\n",
    "print (\"osm file size:\", mb, \"Mb\")"
   ]
  },
  {
   "cell_type": "markdown",
   "metadata": {},
   "source": [
    "\n",
    "### Auditing the \"k\" values"
   ]
  },
  {
   "cell_type": "markdown",
   "metadata": {},
   "source": [
    "I used a function to find the different attributes that are represented by the 'k' value and measures their occurance. Reference AuditingK.py. "
   ]
  },
  {
   "cell_type": "markdown",
   "metadata": {},
   "source": [
    "I used code to look for tags with only lowercase letters, then lowercase letters separated by a colon and lastly, any problem characters. Reference TagAudit.py."
   ]
  },
  {
   "cell_type": "markdown",
   "metadata": {},
   "source": [
    "### Street Types Audit"
   ]
  },
  {
   "cell_type": "markdown",
   "metadata": {},
   "source": [
    "The code found in StreetTypes.py audits the street names in the seattle.osm file."
   ]
  },
  {
   "cell_type": "markdown",
   "metadata": {},
   "source": [
    "While I did see a few very small inconsistancies while auditing the street names, I found the formatting to be mostly clean and consistent. The code below attempts to update the street names. Reference UpdateStreetTypes.py."
   ]
  },
  {
   "cell_type": "markdown",
   "metadata": {},
   "source": [
    "### Prepare Data for SQL"
   ]
  },
  {
   "cell_type": "markdown",
   "metadata": {},
   "source": [
    "The data is now ready to be imported into SQL. The XML data will be parsed through and converted into tabular format into CSV files. The CSV files can then be imported into sqlite. The code used for this process can be found in sqlprep.py."
   ]
  },
  {
   "cell_type": "markdown",
   "metadata": {},
   "source": [
    "Audited changes are carried out when converting to CSV in the script below. "
   ]
  },
  {
   "cell_type": "markdown",
   "metadata": {},
   "source": [
    "### Creating SQL Database"
   ]
  },
  {
   "cell_type": "markdown",
   "metadata": {},
   "source": [
    "I then use the cose found in sqlCreate.py to create the sqlite database."
   ]
  },
  {
   "cell_type": "code",
   "execution_count": 11,
   "metadata": {},
   "outputs": [],
   "source": [
    "import sqlite3\n",
    "import pandas as pd\n",
    "\n",
    "# ref https://stackoverflow.com/questions/50735349/import-csv-into-sqlite3-insert-failed\n",
    "conn=sqlite3.connect('Seattle.db')\n",
    "cur = conn.cursor() \n",
    "\n",
    "cur.execute('''DROP TABLE IF EXISTS nodes''')\n",
    "cur.execute('''DROP TABLE IF EXISTS nodes_tags''')\n",
    "cur.execute('''DROP TABLE IF EXISTS ways''')\n",
    "cur.execute('''DROP TABLE IF EXISTS ways_tags''')\n",
    "cur.execute('''DROP TABLE IF EXISTS ways_nodes''')\n",
    "\n",
    "\n",
    "cur.execute(\"CREATE TABLE nodes ( id INTEGER PRIMARY KEY NOT NULL, lat REAL, lon REAL,\\\n",
    "    user TEXT, uid INTEGER, version INTEGER, changeset INTEGER, timestamp TEXT )\")\n",
    "conn.commit()\n",
    "node_df = pd.read_csv('nodes.csv', dtype=object)\n",
    "node_df.to_sql('nodes', conn, if_exists='append', index=False)\n",
    "\n",
    "\n",
    "cur.execute(\"CREATE TABLE nodes_tags (\\\n",
    "    id INTEGER,\\\n",
    "    key TEXT,\\\n",
    "    value TEXT,\\\n",
    "    type TEXT,\\\n",
    "    FOREIGN KEY (id) REFERENCES nodes(id)\\\n",
    ")\")\n",
    "conn.commit()\n",
    "nodetag_df=pd.read_csv('nodes_tags.csv')\n",
    "nodetag_df.to_sql('nodes_tags', conn, if_exists='append', index=False)\n",
    "\n",
    "cur.execute(\"CREATE TABLE ways (\\\n",
    "    id INTEGER PRIMARY KEY NOT NULL,\\\n",
    "    user TEXT,\\\n",
    "    uid INTEGER,\\\n",
    "    version TEXT,\\\n",
    "    changeset INTEGER,\\\n",
    "    timestamp TEXT\\\n",
    ")\")\n",
    "conn.commit()\n",
    "way_df=pd.read_csv('ways.csv')\n",
    "way_df.to_sql('ways', conn, if_exists='append', index=False)\n",
    "\n",
    "cur.execute(\"CREATE TABLE ways_nodes (\\\n",
    "    id INTEGER NOT NULL,\\\n",
    "    node_id INTEGER NOT NULL, \\\n",
    "    position INTEGER NOT NULL, \\\n",
    "    FOREIGN KEY (id) REFERENCES ways(id),\\\n",
    "    FOREIGN KEY (node_id) REFERENCES nodes(id)\\\n",
    ")\")\n",
    "conn.commit()\n",
    "waynode_df=pd.read_csv('ways_nodes.csv')\n",
    "waynode_df.to_sql('ways_nodes', conn, if_exists='append', index=False)\n",
    "\n",
    "\n",
    "cur.execute(\"CREATE TABLE ways_tags (\\\n",
    "    id INTEGER NOT NULL,\\\n",
    "    key TEXT NOT NULL,\\\n",
    "    value TEXT NOT NULL,\\\n",
    "    type TEXT,\\\n",
    "    FOREIGN KEY (id) REFERENCES ways(id)\\\n",
    ")\")\n",
    "conn.commit()\n",
    "waytag_df=pd.read_csv('ways_tags.csv')\n",
    "waytag_df=waytag_df.dropna(subset=['id', 'key', 'value'], how='any')\n",
    "waytag_df.to_sql('ways_tags', conn, if_exists='append', index=False)"
   ]
  },
  {
   "cell_type": "markdown",
   "metadata": {},
   "source": [
    "### Exploring the data further with SQL"
   ]
  },
  {
   "cell_type": "markdown",
   "metadata": {},
   "source": [
    "Number of unique users"
   ]
  },
  {
   "cell_type": "code",
   "execution_count": 23,
   "metadata": {},
   "outputs": [
    {
     "name": "stdout",
     "output_type": "stream",
     "text": [
      "(714,)\n"
     ]
    }
   ],
   "source": [
    "\n",
    "query='''select count(DISTINCT uid) from nodes; '''\n",
    "\n",
    "result=cur.execute(query)\n",
    "for row in result:\n",
    "    print (row)"
   ]
  },
  {
   "cell_type": "markdown",
   "metadata": {},
   "source": [
    "Number of nodes"
   ]
  },
  {
   "cell_type": "code",
   "execution_count": 25,
   "metadata": {},
   "outputs": [
    {
     "name": "stdout",
     "output_type": "stream",
     "text": [
      "(217673,)\n"
     ]
    }
   ],
   "source": [
    "\n",
    "query='''select count(DISTINCT id) from nodes; '''\n",
    "\n",
    "result=cur.execute(query)\n",
    "for row in result:\n",
    "    print (row)\n"
   ]
  },
  {
   "cell_type": "markdown",
   "metadata": {},
   "source": [
    "Number of ways"
   ]
  },
  {
   "cell_type": "code",
   "execution_count": 12,
   "metadata": {},
   "outputs": [
    {
     "name": "stdout",
     "output_type": "stream",
     "text": [
      "(31137,)\n"
     ]
    }
   ],
   "source": [
    "query='''select count(DISTINCT id) from ways; '''\n",
    "\n",
    "result=cur.execute(query)\n",
    "for row in result:\n",
    "    print (row)"
   ]
  },
  {
   "cell_type": "markdown",
   "metadata": {},
   "source": [
    "### Top 5 amenitities"
   ]
  },
  {
   "cell_type": "markdown",
   "metadata": {},
   "source": [
    "For fun, I took a look at the top 5 amenities in my osm file. "
   ]
  },
  {
   "cell_type": "code",
   "execution_count": 22,
   "metadata": {},
   "outputs": [
    {
     "name": "stdout",
     "output_type": "stream",
     "text": [
      "Top 5 amenities:\n",
      "\n",
      "[('bicycle_parking', 1400),\n",
      " ('parking', 663),\n",
      " ('restaurant', 619),\n",
      " ('waste_basket', 417),\n",
      " ('cafe', 362)]\n"
     ]
    }
   ],
   "source": [
    "query = (\"SELECT tags.value, COUNT(*) as count \\\n",
    "            FROM (SELECT * FROM nodes_tags \\\n",
    "            UNION ALL \\\n",
    "            SELECT * FROM ways_tags) tags \\\n",
    "            WHERE tags.key='amenity' \\\n",
    "            GROUP BY tags.value \\\n",
    "            ORDER BY count DESC \\\n",
    "            LIMIT 5\")\n",
    "cur.execute(query)\n",
    "top_5_amenities = cur.fetchall()\n",
    "print (\"Top 5 amenities:\\n\")\n",
    "pprint.pprint(top_5_amenities)"
   ]
  },
  {
   "cell_type": "markdown",
   "metadata": {},
   "source": [
    "This being Seattle, it is not surprising to see cafes in the top 5 amenities. "
   ]
  },
  {
   "cell_type": "code",
   "execution_count": 17,
   "metadata": {},
   "outputs": [
    {
     "name": "stdout",
     "output_type": "stream",
     "text": [
      "Top 5 streets by cafe:\n",
      "\n",
      "[('3rd Avenue', 14),\n",
      " ('1st Avenue', 13),\n",
      " ('East Pike Street', 11),\n",
      " ('4th Avenue', 11),\n",
      " ('2nd Avenue', 8)]\n"
     ]
    }
   ],
   "source": [
    "query = (\"SELECT tags.value, COUNT(*) as count \\\n",
    "            FROM (SELECT * FROM nodes_tags \\\n",
    "            UNION ALL \\\n",
    "            SELECT * FROM ways_tags) tags \\\n",
    "            JOIN (SELECT DISTINCT(id) FROM (SELECT * FROM nodes_tags \\\n",
    "            UNION ALL \\\n",
    "            SELECT * FROM ways_tags) WHERE value = 'cafe') as subq \\\n",
    "            ON tags.id = subq.id \\\n",
    "            WHERE tags.key = 'street' \\\n",
    "            GROUP BY tags.value \\\n",
    "            ORDER BY count DESC \\\n",
    "            LIMIT 5\")\n",
    "cur.execute(query)\n",
    "top_5_caf_street = cur.fetchall()\n",
    "print (\"Top 5 streets by cafe:\\n\")\n",
    "pprint.pprint(top_5_caf_street)"
   ]
  },
  {
   "cell_type": "markdown",
   "metadata": {},
   "source": [
    "It looks like 3rd Avenue in downtown Seattle is the street with the highest number of cafes. "
   ]
  },
  {
   "cell_type": "markdown",
   "metadata": {},
   "source": [
    "### Conclusion"
   ]
  },
  {
   "cell_type": "markdown",
   "metadata": {},
   "source": [
    "The datafile I used from OpenStreetMap was surprisingly consistant given the size of the file and the number of users. \n",
    "In general, the file was cleaner than expected. \n",
    "\n",
    "This project was a good way to learn data gathering, auditing, cleaning and analysis. It was also valuable to learn how to\n",
    "create and import data into an SQL database. \n",
    "\n",
    "I might suggest that OpenStreetMap somehow provide data validation checks to avoid erroneous data entry into the OSM database.\n",
    "\n",
    "There are also multiple names for the same types of places. These could be consolidated into one which would save space and give users fewer options to look through. For example, theatre and cinema as well as bar and pub could be combined. Reference improvement.py.\n",
    "\n",
    "Anticipated problems with suggestions: As usual, data entry by users would be a potential problem which could be resolved through data validation checks. \n"
   ]
  }
 ],
 "metadata": {
  "kernelspec": {
   "display_name": "Python 3",
   "language": "python",
   "name": "python3"
  },
  "language_info": {
   "codemirror_mode": {
    "name": "ipython",
    "version": 3
   },
   "file_extension": ".py",
   "mimetype": "text/x-python",
   "name": "python",
   "nbconvert_exporter": "python",
   "pygments_lexer": "ipython3",
   "version": "3.8.3"
  }
 },
 "nbformat": 4,
 "nbformat_minor": 4
}
